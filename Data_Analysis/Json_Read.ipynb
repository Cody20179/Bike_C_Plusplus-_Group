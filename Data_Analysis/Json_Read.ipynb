{
 "cells": [
  {
   "cell_type": "markdown",
   "metadata": {},
   "source": [
    "國外網站\n",
    "讀資料夾內所有Json檔案"
   ]
  },
  {
   "cell_type": "code",
   "execution_count": 1,
   "metadata": {},
   "outputs": [],
   "source": [
    "import os\n",
    "\n",
    "folder_path = 'D:/BikeMap'\n",
    "\n",
    "folders = os.listdir(folder_path)\n",
    "\n",
    "json_files = []\n",
    "\n",
    "for i in range(len(folders)):\n",
    "    folder_path_json = f'{folder_path}/{folders[i]}'\n",
    "    files = os.listdir(folder_path_json)\n",
    "    for j in range(len(files)):\n",
    "        if files[j].lower().endswith('.json'):\n",
    "            json_files.append(f\"{folders[i]}/{files[j]}\")"
   ]
  },
  {
   "cell_type": "code",
   "execution_count": null,
   "metadata": {},
   "outputs": [],
   "source": [
    "# GPT寫法\n",
    "import os\n",
    "\n",
    "folder_path = 'D:/BikeMap'\n",
    "\n",
    "folders = os.listdir(folder_path)\n",
    "\n",
    "json_files = []\n",
    "\n",
    "for folder in folders:\n",
    "    folder_path_json = os.path.join(folder_path, folder)\n",
    "    if os.path.isdir(folder_path_json):\n",
    "        files = os.listdir(folder_path_json)\n",
    "        for file in files:\n",
    "            if file.lower().endswith('.json'):\n",
    "                json_files.append(f\"{folder}/{file}\")\n",
    "\n",
    "print(len(json_files))\n",
    "\n",
    "print(json_files[20:30])\n"
   ]
  },
  {
   "cell_type": "code",
   "execution_count": null,
   "metadata": {},
   "outputs": [],
   "source": [
    "import json\n",
    "import numpy as np\n",
    "import pandas as pd\n",
    "\n",
    "def write_to_file(File_name):\n",
    "        filename = f\"D:/BikeMap/{File_name}\"\n",
    "        with open(filename, 'r', encoding='utf-8') as f:\n",
    "                data = json.load(f)\n",
    "\n",
    "        Elevation_curve = data.get(\"elevation_curve\")\n",
    "        Distance = data.get(\"distance\")\n",
    "\n",
    "        if Elevation_curve is None or Distance is None:\n",
    "            print(f\"Skipping {File_name} due to missing data\")\n",
    "            return\n",
    "\n",
    "        Distance_curve = np.linspace(0, Distance, len(Elevation_curve))\n",
    "        df = pd.DataFrame({'Distance': Distance_curve, 'Elevation': Elevation_curve})\n",
    "        File_name = File_name.replace(\"/\",\"-\").replace(\".json\",\"\")\n",
    "        df.to_csv(f\"CSV/CSV_All/{File_name}.csv\", index=False)\n",
    "        print(f\"{File_name} is Save Finish\")\n",
    "\n",
    "for i in range(len(json_files)):\n",
    "        File_name = json_files[i]\n",
    "        write_to_file(File_name)"
   ]
  },
  {
   "cell_type": "markdown",
   "metadata": {},
   "source": [
    "台灣奇蹟"
   ]
  },
  {
   "cell_type": "code",
   "execution_count": null,
   "metadata": {},
   "outputs": [],
   "source": [
    "#讀json資料夾內所有.json的檔名\n",
    "import os\n",
    "\n",
    "folder_path = 'json'\n",
    "\n",
    "CSV = []\n",
    "\n",
    "file_names = os.listdir(folder_path)\n",
    "\n",
    "csv_file_names = [file for file in file_names if file.lower().endswith('.json')]\n",
    "\n",
    "for file_name in csv_file_names:\n",
    "    CSV.append(file_name)\n",
    "\n",
    "for i in range(len(CSV)):\n",
    "    print(CSV[i])"
   ]
  },
  {
   "cell_type": "code",
   "execution_count": null,
   "metadata": {},
   "outputs": [],
   "source": [
    "#只撈出路徑長跟海拔高度\n",
    "import json\n",
    "\n",
    "filename = 'json/bikeRoute_3.json'\n",
    "\n",
    "with open(filename, 'r', encoding='utf-8') as file:\n",
    "    data = json.load(file)\n",
    "\n",
    "Distance = []\n",
    "Elevation = []\n",
    "\n",
    "route = data[\"route\"]\n",
    "for item in route:\n",
    "    geometry = item.get(\"geometry\")\n",
    "    for point in geometry:\n",
    "        Distance.append(str(point.get(\"Elevation\")))\n",
    "        Elevation.append(str(point.get(\"Elevation\")))\n",
    "\n",
    "for i in range(len(Distance)):\n",
    "    print(\"Distance:\", Distance[i], \"Elevation:\", Elevation[i])"
   ]
  },
  {
   "cell_type": "code",
   "execution_count": null,
   "metadata": {},
   "outputs": [],
   "source": [
    "#存檔\n",
    "import csv\n",
    "csv_filename = 'Json.csv'\n",
    "\n",
    "with open(csv_filename, 'w', newline='', encoding='utf-8') as csvfile:\n",
    "\n",
    "    csv_writer = csv.writer(csvfile)\n",
    "    csv_writer.writerow(['Distance', 'Distance'])\n",
    "    \n",
    "    for i in range(len(Distance)):\n",
    "        csv_writer.writerow([Distance[i], Distance[i]])\n",
    "        \n",
    "print(f\"CSV File is Saved: '{csv_filename}'\")"
   ]
  }
 ],
 "metadata": {
  "kernelspec": {
   "display_name": "python3.8",
   "language": "python",
   "name": "python3"
  },
  "language_info": {
   "codemirror_mode": {
    "name": "ipython",
    "version": 3
   },
   "file_extension": ".py",
   "mimetype": "text/x-python",
   "name": "python",
   "nbconvert_exporter": "python",
   "pygments_lexer": "ipython3",
   "version": "3.8.0"
  },
  "orig_nbformat": 4
 },
 "nbformat": 4,
 "nbformat_minor": 2
}
