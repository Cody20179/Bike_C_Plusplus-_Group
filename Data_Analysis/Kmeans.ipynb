{
 "cells": [
  {
   "cell_type": "markdown",
   "id": "561786cc",
   "metadata": {},
   "source": [
    "PCA NUM"
   ]
  },
  {
   "cell_type": "code",
   "execution_count": null,
   "id": "13fa2043",
   "metadata": {},
   "outputs": [],
   "source": [
    "import pandas as pd\n",
    "import matplotlib.pyplot as plt\n",
    "from sklearn.preprocessing import StandardScaler\n",
    "from sklearn.decomposition import PCA\n",
    "\n",
    "df = pd.read_csv('CSV/CSV_Caculate/CSV_Caculate_results0.csv')\n",
    "\n",
    "df.dropna(inplace=True)\n",
    "\n",
    "features = ['總騎乘長度', '最高海拔', '平均海拔', '爬升坡率平均(趨勢)', '最大爬升坡率(趨勢)', \n",
    "            '下降坡率平均(趨勢)', '最大下降坡率(趨勢)', '總爬升海拔', '最大爬升海拔', \n",
    "            '平均爬升海拔', '總下降海拔', '最大下降海拔', '平均下降海拔', '爬升路段比例', \n",
    "            '下降路段比例', '平均路徑變化率']\n",
    "\n",
    "for feature in features:\n",
    "    df[feature] = pd.to_numeric(df[feature], errors='coerce')\n",
    "\n",
    "df.dropna(subset=features, inplace=True)\n",
    "\n",
    "scaler = StandardScaler()\n",
    "scaled_features = scaler.fit_transform(df[features])\n",
    "\n",
    "pca = PCA()\n",
    "pca.fit(scaled_features)\n",
    "\n",
    "components = pd.DataFrame(pca.components_, columns=features)\n",
    "\n",
    "feature_importance = components.abs().sum(axis=0)\n",
    "\n",
    "sorted_features = feature_importance.sort_values(ascending=False)\n",
    "\n",
    "print(\"Features sorted by overall importance:\")\n",
    "print(sorted_features)\n"
   ]
  },
  {
   "cell_type": "markdown",
   "id": "5a91796d",
   "metadata": {},
   "source": [
    "RandomForest"
   ]
  },
  {
   "cell_type": "code",
   "execution_count": null,
   "id": "90ff768d",
   "metadata": {},
   "outputs": [],
   "source": [
    "from sklearn.ensemble import RandomForestClassifier\n",
    "import numpy as np\n",
    "\n",
    "df['label'] = np.random.randint(0, 3, df.shape[0])\n",
    "\n",
    "X = df[features]\n",
    "y = df['label']\n",
    "\n",
    "rf = RandomForestClassifier(n_estimators=100)\n",
    "rf.fit(X, y)\n",
    "\n",
    "importances = rf.feature_importances_\n",
    "feature_importance = pd.Series(importances, index=features).sort_values(ascending=False)\n",
    "print(\"Feature Importances:\")\n",
    "print(feature_importance)\n",
    "'''\n",
    "plt.figure(figsize=(10, 6))\n",
    "feature_importance.plot(kind='bar')\n",
    "plt.xlabel('Features')\n",
    "plt.ylabel('Importance')\n",
    "plt.title('Feature Importance from RandomForest')\n",
    "plt.show()\n",
    "'''"
   ]
  },
  {
   "cell_type": "markdown",
   "id": "a48564e6",
   "metadata": {},
   "source": [
    "correlation"
   ]
  },
  {
   "cell_type": "code",
   "execution_count": null,
   "id": "3f96cb99",
   "metadata": {},
   "outputs": [],
   "source": [
    "import pandas as pd\n",
    "\n",
    "df1 = pd.read_csv('CSV/CSV_Caculate/CSV_Caculate_results0.csv')\n",
    "df2 = pd.read_csv('CSV/CSV_Caculate/CSV_Caculate_results1.csv')\n",
    "df = pd.concat([df1, df2], ignore_index=True)\n",
    "\n",
    "df.dropna(inplace=True)\n",
    "\n",
    "features = ['總騎乘長度', '最高海拔', '平均海拔', '爬升坡率平均(趨勢)', '最大爬升坡率(趨勢)', \n",
    "            '下降坡率平均(趨勢)', '最大下降坡率(趨勢)', '總爬升海拔', '最大爬升海拔', \n",
    "            '平均爬升海拔', '總下降海拔', '最大下降海拔', '平均下降海拔', '爬升路段比例', \n",
    "            '下降路段比例', '平均路徑變化率']\n",
    "\n",
    "for feature in features:\n",
    "    df[feature] = pd.to_numeric(df[feature], errors='coerce')\n",
    "\n",
    "df.dropna(subset=features, inplace=True)\n",
    "\n",
    "correlation_matrix = df[features].corr()\n",
    "\n",
    "correlation_sums = correlation_matrix.abs().sum(axis=1)\n",
    "\n",
    "sorted_correlation = correlation_sums.sort_values(ascending=False)\n",
    "\n",
    "print(\"Features sorted by overall correlation:\")\n",
    "print(sorted_correlation)\n"
   ]
  },
  {
   "cell_type": "markdown",
   "id": "7fa9cdca",
   "metadata": {},
   "source": [
    "Kmeans"
   ]
  },
  {
   "cell_type": "code",
   "execution_count": null,
   "id": "4c99195a",
   "metadata": {},
   "outputs": [],
   "source": [
    "import os\n",
    "import pandas as pd\n",
    "import numpy as np\n",
    "import matplotlib.pyplot as plt\n",
    "from sklearn.cluster import KMeans\n",
    "from sklearn.preprocessing import StandardScaler\n",
    "from sklearn.decomposition import PCA\n",
    "from scipy.spatial.distance import cdist\n",
    "# 讀取 CSV 檔案數據\n",
    "df1 = pd.read_csv('CSV/CSV_Caculate/CSV_Caculate_results0.csv')\n",
    "df2 = pd.read_csv('CSV/CSV_Caculate/CSV_Caculate_results1.csv')\n",
    "df = pd.concat([df1, df2], ignore_index=True)\n",
    "# 定義數值特徵用於聚類分析\n",
    "numeric_features = [\n",
    "    '最大爬升海拔', '最高海拔', '平均海拔', '平均爬升海拔', '最大下降海拔',\n",
    "    '平均下降海拔', \"爬升坡率平均(趨勢)\", '下降坡率平均(趨勢)', \"總爬升海拔\",\n",
    "    '爬升路段比例', '下降路段比例'\n",
    "]\n",
    "# 選取需要的特徵列\n",
    "df_selected = df[numeric_features + ['File_Name']]\n",
    "df_numeric = df_selected[numeric_features].apply(pd.to_numeric, errors='coerce')\n",
    "# 去除有缺失值的數據行\n",
    "df_numeric.dropna(inplace=True)\n",
    "# 根據數值數據的索引更新原始選取的 DataFrame\n",
    "df_selected = df_selected.loc[df_numeric.index]\n",
    "# 標準化數值特徵\n",
    "scaler = StandardScaler()\n",
    "df_scaled = scaler.fit_transform(df_numeric)\n",
    "# 定義一個函數來優化 K 值選取\n",
    "def optimise_k_means(data, max_k):\n",
    "    means = list(range(1, max_k))\n",
    "    cohesions = []\n",
    "    for k in means:\n",
    "        kmeans = KMeans(n_clusters=k, n_init=10)\n",
    "        kmeans.fit(data)\n",
    "        cohesion = np.sum(np.min(cdist(data, kmeans.cluster_centers_, 'euclidean'), axis=1)) / data.shape[0]\n",
    "        cohesions.append(cohesion)\n",
    "    optimal_k = means[np.argmin(cohesions)]\n",
    "    return optimal_k\n",
    "# 找到最佳的 K 值\n",
    "optimal_k = optimise_k_means(df_scaled, 10)\n",
    "# 使用最佳的 K 值進行 K-means 聚類\n",
    "kmeans = KMeans(n_clusters=3, n_init=10)\n",
    "kmeans.fit(df_scaled)\n",
    "# 在 DataFrame 中添加聚類標籤\n",
    "df_selected['cluster'] = kmeans.labels_\n",
    "# 進行 PCA 降維以便於可視化\n",
    "pca = PCA(n_components=2)\n",
    "df_pca = pca.fit_transform(df_scaled)\n",
    "# 繪製 PCA 降維後的數據分布\n",
    "plt.figure(figsize=(6, 4))\n",
    "scatter = plt.scatter(x=df_pca[:, 0], y=df_pca[:, 1], c=df_selected['cluster'], cmap='viridis')\n",
    "plt.xlabel('PCA 第一主成分')\n",
    "plt.ylabel('PCA 第二主成分')\n",
    "plt.title(f'K-means 聚類 (k={3}) - PCA 降維')\n",
    "plt.colorbar(scatter, label='群集')\n",
    "plt.grid(True)\n",
    "plt.show()\n",
    "# 提取每個群集中的檔案名稱到字典\n",
    "cluster_filenames = {k: df_selected[df_selected['cluster'] == k]['File_Name'].tolist() for k in range(optimal_k)}"
   ]
  },
  {
   "cell_type": "markdown",
   "id": "88658cc2",
   "metadata": {},
   "source": [
    "看各群數量"
   ]
  },
  {
   "cell_type": "code",
   "execution_count": null,
   "id": "9744b637",
   "metadata": {},
   "outputs": [],
   "source": [
    "print(len(cluster_filenames[0]))\n",
    "print(len(cluster_filenames[1]))\n",
    "print(len(cluster_filenames[2]))"
   ]
  },
  {
   "cell_type": "markdown",
   "id": "2c929f0b",
   "metadata": {},
   "source": [
    "存檔(手動...)要自己調參數\n",
    "1. if i in cluster_filenames[i]:調整要存檔的類型\n",
    "2. new_folder = 'CSV/CSV_Type/TC':設定該類別的資料夾"
   ]
  },
  {
   "cell_type": "code",
   "execution_count": null,
   "id": "91c23a09",
   "metadata": {},
   "outputs": [],
   "source": [
    "import pandas as pd\n",
    "import os\n",
    "for i in CSV:\n",
    "    if i in cluster_filenames[2]:  # 檢查文件名是否在 cluster_filenames[0] 中\n",
    "        # 讀取原始CSV文件\n",
    "        df1 = pd.read_csv(f'CSV/CSV_Row_Data2/{i}')\n",
    "        # 定義新資料夾的路徑\n",
    "        new_folder = 'CSV/CSV_Type/TC'\n",
    "        # 確保新資料夾存在，如果不存在則創建它\n",
    "        if not os.path.exists(new_folder):\n",
    "            os.makedirs(new_folder)\n",
    "        # 定義新文件的完整路徑\n",
    "        new_file_path = os.path.join(new_folder, i)\n",
    "        # 將DataFrame保存到新路徑\n",
    "        df1.to_csv(new_file_path, index=False)\n",
    "        print(f\"File saved to {new_file_path}\")"
   ]
  },
  {
   "cell_type": "markdown",
   "id": "1903fe00",
   "metadata": {},
   "source": [
    "檢查"
   ]
  },
  {
   "cell_type": "code",
   "execution_count": null,
   "id": "fd1b80d2",
   "metadata": {},
   "outputs": [],
   "source": [
    "import os\n",
    "\n",
    "folder_path = 'CSV/CSV_Type/TC/'\n",
    "\n",
    "CSV = []\n",
    "\n",
    "file_names = os.listdir(folder_path)\n",
    "\n",
    "csv_file_names = [file for file in file_names if file.lower().endswith('.csv')]\n",
    "\n",
    "for file_name in csv_file_names:\n",
    "    CSV.append(file_name)\n",
    "\n",
    "print(\"共{\",len(CSV),\"}個檔案\")\n",
    "'''\n",
    "for i in range(len(CSV)):\n",
    "    #print(f\"Route Number: {i:<5} | Route File: {CSV[i]:<20}\")\n",
    "    print(f\"{CSV[i]:<20}\")'''"
   ]
  }
 ],
 "metadata": {
  "kernelspec": {
   "display_name": "Python 3 (ipykernel)",
   "language": "python",
   "name": "python3"
  },
  "language_info": {
   "codemirror_mode": {
    "name": "ipython",
    "version": 3
   },
   "file_extension": ".py",
   "mimetype": "text/x-python",
   "name": "python",
   "nbconvert_exporter": "python",
   "pygments_lexer": "ipython3",
   "version": "3.8.0"
  }
 },
 "nbformat": 4,
 "nbformat_minor": 5
}
